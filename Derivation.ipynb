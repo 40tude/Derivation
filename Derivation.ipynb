{
 "cells": [
  {
   "cell_type": "markdown",
   "metadata": {},
   "source": [
    "# A propos de la dérivation"
   ]
  },
  {
   "cell_type": "markdown",
   "metadata": {},
   "source": [
    "Si on a deux point P1(x1, y1) et P2(x2, y2) qui appartiennent à la courbe C (courbe représentative de la fonction f), alors la droite qui passe par les 2 points a pour équation :\n",
    "$$\n",
    "y = ax + b\n",
    "$$\n",
    "Où\n",
    "$$\n",
    "a = \\frac{y_2-y_1}{x_2-x_1} = \\frac{f(x_2)-f(x_1)}{x_2-x_1}\n",
    "$$\n",
    "$$\n",
    "b = y_1 - ax_1 = f(x_1) - ax_1\n",
    "$$"
   ]
  },
  {
   "cell_type": "code",
   "execution_count": 1,
   "metadata": {
    "collapsed": true
   },
   "outputs": [],
   "source": [
    "%matplotlib inline\n",
    "from ipywidgets import interactive\n",
    "import matplotlib.pyplot as plt\n",
    "import numpy as np\n"
   ]
  },
  {
   "cell_type": "markdown",
   "metadata": {},
   "source": [
    "Ensuite on se donne une fonction $f()$ \"sympa\". \n",
    "\n",
    "Ici on a pris $y=(x-3)(x-5)(x-7)+85$\n",
    "\n",
    "C'est un polynome simple. Elle est donc continue et dérivable."
   ]
  },
  {
   "cell_type": "code",
   "execution_count": 2,
   "metadata": {
    "collapsed": true
   },
   "outputs": [],
   "source": [
    "def f(x):\n",
    "    return (x-3)*(x-5)*(x-7)+85"
   ]
  },
  {
   "cell_type": "markdown",
   "metadata": {},
   "source": [
    "Ci-dessous, RenderPlot() est une procédure (au sens informatique du therme) qui se charge d'afficher :\n",
    "* La courbe représentative\n",
    "* Les 2 points d'abcisse $x_1$ et $x_2$\n",
    "* La droite (la corde) qui passe par les 2 points en question\n",
    "\n",
    "Le but du jeu est ensuite de jouer avec les 2 curseurs et de réaliser que lorsque $x_1$ et $x_2$ sont très proche alors la droite se rapproche de ce que devrait être la tangente à la coube au point d'abcissse $x_1$ (ou $x_2$ car les valeurs sont presque identiques) "
   ]
  },
  {
   "cell_type": "code",
   "execution_count": 3,
   "metadata": {},
   "outputs": [
    {
     "data": {
      "application/vnd.jupyter.widget-view+json": {
       "model_id": "6b5d7a54239c4c7c93baac901a656bfe",
       "version_major": 2,
       "version_minor": 0
      },
      "text/plain": [
       "A Jupyter Widget"
      ]
     },
     "metadata": {},
     "output_type": "display_data"
    }
   ],
   "source": [
    "def RenderPlot(x1=1.0, x2=8.0):\n",
    "    plt.figure(2)    \n",
    "    x = np.linspace(0, 10, 200)\n",
    "    y = f(x)\n",
    "    plt.plot(x, y, lw=2)\n",
    "    if(x2!=x1):\n",
    "        a = (f(x2)-f(x1))/(x2-x1)\n",
    "        b = f(x1) - a*x1\n",
    "        plt.plot(x, a * x + b)\n",
    "    plt.plot([x1, x2], [f(x1), f(x2)], \"rp\")\n",
    "    plt.show()\n",
    "\n",
    "interactive_plot = interactive(RenderPlot, x1=(0.0, 10.0), x2=(0.0, 10.0))\n",
    "output = interactive_plot.children[-1]\n",
    "output.layout.height = '350px'\n",
    "interactive_plot"
   ]
  }
 ],
 "metadata": {
  "kernelspec": {
   "display_name": "Python 3",
   "language": "python",
   "name": "python3"
  },
  "language_info": {
   "codemirror_mode": {
    "name": "ipython",
    "version": 3
   },
   "file_extension": ".py",
   "mimetype": "text/x-python",
   "name": "python",
   "nbconvert_exporter": "python",
   "pygments_lexer": "ipython3",
   "version": "3.6.2"
  }
 },
 "nbformat": 4,
 "nbformat_minor": 2
}
